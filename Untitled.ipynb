{
 "cells": [
  {
   "cell_type": "code",
   "execution_count": null,
   "id": "0214c2ac-f9b3-4435-bdfc-fbf92bac0917",
   "metadata": {},
   "outputs": [],
   "source": [
    "import pandas as pd"
   ]
  },
  {
   "cell_type": "code",
   "execution_count": 2,
   "id": "37cc881c-a474-42f3-9db9-7b16d2d1e797",
   "metadata": {},
   "outputs": [
    {
     "name": "stdout",
     "output_type": "stream",
     "text": [
      "helo worlad\n"
     ]
    }
   ],
   "source": [
    "print(\"helo worlad\")"
   ]
  },
  {
   "cell_type": "code",
   "execution_count": null,
   "id": "ba6b2ac7-f26d-442f-8d8e-841d39643c40",
   "metadata": {},
   "outputs": [],
   "source": [
    "print(\"what\")"
   ]
  },
  {
   "cell_type": "code",
   "execution_count": null,
   "id": "aac35e3f-38d7-469f-b717-8eac51a833a0",
   "metadata": {},
   "outputs": [],
   "source": [
    "import pandas as pd\n",
    "my_data = pd.read_csv('./archive/US_Accidents_March23.csv')\n",
    "print(\"shape of the dataset\",my_data.shape)\n",
    "mydata.head(26)"
   ]
  },
  {
   "cell_type": "code",
   "execution_count": null,
   "id": "6e5c43e0-b10d-4dc8-9358-eb88e875cc0b",
   "metadata": {},
   "outputs": [],
   "source": [
    "import pandas as pd \n",
    "from sklearn.model_selectionm import train_test_split\n",
    "from sklearn.tree import DecisionTreeClassifier\n",
    "from sklearn.metrics import accuracy_score, classification_report, confusion_matrix\n",
    "\n",
    "my_data = pd.read_csv('')"
   ]
  }
 ],
 "metadata": {
  "kernelspec": {
   "display_name": "Python 3 (ipykernel)",
   "language": "python",
   "name": "python3"
  },
  "language_info": {
   "codemirror_mode": {
    "name": "ipython",
    "version": 3
   },
   "file_extension": ".py",
   "mimetype": "text/x-python",
   "name": "python",
   "nbconvert_exporter": "python",
   "pygments_lexer": "ipython3",
   "version": "3.10.12"
  }
 },
 "nbformat": 4,
 "nbformat_minor": 5
}
